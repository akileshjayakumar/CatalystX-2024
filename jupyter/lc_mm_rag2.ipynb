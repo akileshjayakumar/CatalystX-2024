{
 "cells": [
  {
   "cell_type": "code",
   "execution_count": 2,
   "metadata": {},
   "outputs": [
    {
     "name": "stderr",
     "output_type": "stream",
     "text": [
      "/Users/akileshjayakumar/Documents/catalystX2024/.venv/lib/python3.12/site-packages/tqdm/auto.py:21: TqdmWarning: IProgress not found. Please update jupyter and ipywidgets. See https://ipywidgets.readthedocs.io/en/stable/user_install.html\n",
      "  from .autonotebook import tqdm as notebook_tqdm\n",
      "The MIME type of '/Users/akileshjayakumar/Documents/catalystX2024/notebooks/mm_rag_images/test3.jpg' is 'image/webp'. This file type is not currently supported in unstructured.\n",
      "The MIME type of '/Users/akileshjayakumar/Documents/catalystX2024/notebooks/mm_rag_images/test2.jpg' is 'image/webp'. This file type is not currently supported in unstructured.\n"
     ]
    }
   ],
   "source": [
    "import os\n",
    "from langchain_community.document_loaders import UnstructuredFileLoader\n",
    "\n",
    "file_path = \"/Users/akileshjayakumar/Documents/catalystX2024/notebooks/mm_rag_images\"\n",
    "\n",
    "# List all files in the directory\n",
    "files = os.listdir(file_path)\n",
    "\n",
    "# Process each file\n",
    "for file_name in files:\n",
    "    full_path = os.path.join(file_path, file_name)\n",
    "    loader = UnstructuredFileLoader(full_path, mode=\"single\")\n",
    "    data = loader.load()\n",
    "    # You can add further processing of `data` here"
   ]
  },
  {
   "cell_type": "code",
   "execution_count": null,
   "metadata": {},
   "outputs": [],
   "source": []
  }
 ],
 "metadata": {
  "kernelspec": {
   "display_name": ".venv",
   "language": "python",
   "name": "python3"
  },
  "language_info": {
   "codemirror_mode": {
    "name": "ipython",
    "version": 3
   },
   "file_extension": ".py",
   "mimetype": "text/x-python",
   "name": "python",
   "nbconvert_exporter": "python",
   "pygments_lexer": "ipython3",
   "version": "3.12.7"
  }
 },
 "nbformat": 4,
 "nbformat_minor": 2
}
