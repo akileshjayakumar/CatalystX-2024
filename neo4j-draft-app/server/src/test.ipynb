{
 "cells": [
  {
   "cell_type": "code",
   "execution_count": null,
   "metadata": {},
   "outputs": [],
   "source": [
    "!pip install -r requirements.txt"
   ]
  },
  {
   "cell_type": "code",
   "execution_count": null,
   "metadata": {},
   "outputs": [],
   "source": [
    "from langchain_community.chat_message_histories import Neo4jChatMessageHistory\n",
    "from langchain_community.graphs import Neo4jGraph\n",
    "from langchain_core.runnables.history import RunnableWithMessageHistory\n",
    "from langchain_core.prompts import ChatPromptTemplate, MessagesPlaceholder, PromptTemplate\n",
    "from uuid import uuid4\n",
    "from fastapi import FastAPI, HTTPException\n",
    "from pydantic import BaseModel\n",
    "from langchain_openai import ChatOpenAI\n",
    "from langchain.schema import StrOutputParser\n",
    "from langchain.embeddings import OpenAIEmbeddings\n",
    "from dotenv import load_dotenv\n",
    "import os\n",
    "\n",
    "load_dotenv()"
   ]
  },
  {
   "cell_type": "code",
   "execution_count": 2,
   "metadata": {},
   "outputs": [],
   "source": [
    "app = FastAPI()\n",
    "\n",
    "# Load environment variables from .env file\n",
    "NEO4J_URL = os.getenv(\"NEO4J_URL\")\n",
    "NEO4J_USERNAME = os.getenv(\"NEO4J_USERNAME\")\n",
    "NEO4J_PASSWORD = os.getenv(\"NEO4J_PASSWORD\")\n",
    "OPENAI_API_KEY = os.getenv(\"OPENAI_API_KEY\")"
   ]
  },
  {
   "cell_type": "code",
   "execution_count": null,
   "metadata": {},
   "outputs": [],
   "source": [
    "llm = ChatOpenAI(openai_api_key=OPENAI_API_KEY)\n",
    "print(llm)"
   ]
  },
  {
   "cell_type": "code",
   "execution_count": null,
   "metadata": {},
   "outputs": [],
   "source": [
    "# Initialize Neo4j graph connection\n",
    "graph = Neo4jGraph(url=NEO4J_URL, username=NEO4J_USERNAME,\n",
    "                   password=NEO4J_PASSWORD)\n",
    "\n",
    "print(graph)"
   ]
  },
  {
   "cell_type": "code",
   "execution_count": null,
   "metadata": {},
   "outputs": [],
   "source": [
    "# Generate a unique session ID\n",
    "SESSION_ID = str(uuid4())\n",
    "print(f\"Session ID: {SESSION_ID}\")"
   ]
  },
  {
   "cell_type": "code",
   "execution_count": 9,
   "metadata": {},
   "outputs": [],
   "source": [
    "def get_memory(session_id):\n",
    "    return Neo4jChatMessageHistory(session_id=session_id, graph=graph)"
   ]
  },
  {
   "cell_type": "code",
   "execution_count": 37,
   "metadata": {},
   "outputs": [],
   "source": [
    "# Define the chat prompt template\n",
    "chat_prompt = ChatPromptTemplate.from_messages(\n",
    "    [\n",
    "        (\"system\", \"You are an AI tutor for Singaporean students, knowledgeable about the Singapore curriculum and 21st-century skills.\\n\"\n",
    "                   \"Your goal is to provide curriculum-aligned learning experiences while promoting critical thinking, creativity, and cyber wellness.\\n\"\n",
    "                   \"Current subject: {subject}\\n\"\n",
    "                   \"Current topic: {topic}\\n\\n\"\n",
    "                   \"Please provide responses that:\\n\"\n",
    "                   \"1. Are accurate and aligned with the Singapore curriculum\\n\"\n",
    "                   \"2. Encourage critical thinking and problem-solving\\n\"\n",
    "                   \"3. Foster creativity and innovation\\n\"\n",
    "                   \"4. Promote digital literacy and cyber wellness\\n\"\n",
    "                   \"5. Are appropriate for the student's education level: {educationLevel}\\n\\n\"\n",
    "                   \"Remember to be encouraging and supportive in your responses.\"),\n",
    "        MessagesPlaceholder(variable_name=\"chat_history\"),\n",
    "        (\"human\", \"{question}\"),\n",
    "    ]\n",
    ")"
   ]
  },
  {
   "cell_type": "code",
   "execution_count": 38,
   "metadata": {},
   "outputs": [
    {
     "name": "stdout",
     "output_type": "stream",
     "text": [
      "bound=RunnableBinding(bound=RunnableBinding(bound=RunnableAssign(mapper={\n",
      "  chat_history: RunnableBinding(bound=RunnableLambda(_enter_history), kwargs={}, config={'run_name': 'load_history'}, config_factories=[])\n",
      "}), kwargs={}, config={'run_name': 'insert_history'}, config_factories=[])\n",
      "| RunnableBinding(bound=RunnableLambda(_call_runnable_sync), kwargs={}, config={'run_name': 'check_sync_or_async'}, config_factories=[]), kwargs={}, config={'run_name': 'RunnableWithMessageHistory'}, config_factories=[]) kwargs={} config={} config_factories=[] get_session_history=<function get_memory at 0x1323c28e0> input_messages_key='question' history_messages_key='chat_history' history_factory_config=[ConfigurableFieldSpec(id='session_id', annotation=<class 'str'>, name='Session ID', description='Unique identifier for a session.', default='', is_shared=True, dependencies=None)]\n"
     ]
    }
   ],
   "source": [
    "# Create the chat chain with message history\n",
    "chat_chain = chat_prompt | llm | StrOutputParser()\n",
    "\n",
    "chat_with_message_history = RunnableWithMessageHistory(\n",
    "    chat_chain,\n",
    "    get_memory,\n",
    "    input_messages_key=\"question\",\n",
    "    history_messages_key=\"chat_history\",\n",
    ")\n",
    "\n",
    "print(chat_with_message_history)\n",
    "\n",
    "class ChatRequest(BaseModel):\n",
    "    question: str\n",
    "    subject: str\n",
    "    topic: str\n",
    "    educationLevel: str\n",
    "\n",
    "@app.post(\"/chat/\")\n",
    "def chat(request: ChatRequest):\n",
    "    try:\n",
    "        response = chat_with_message_history.run(\n",
    "            question=request.question,\n",
    "            context=request.context,\n",
    "            subject=request.subject,\n",
    "            topic=request.topic,\n",
    "            educationLevel=request.educationLevel,\n",
    "        )\n",
    "        return response\n",
    "    except Exception as e:\n",
    "        raise HTTPException(status_code=500, detail=str(e))\n",
    "    \n",
    "@app.get(\"/\")\n",
    "def read_root():\n",
    "    return {\"Hello\": \"World\"}\n"
   ]
  },
  {
   "cell_type": "code",
   "execution_count": 46,
   "metadata": {},
   "outputs": [
    {
     "name": "stdout",
     "output_type": "stream",
     "text": [
      "Carbon dioxide is a greenhouse gas that contributes to global warming and climate change. When there is an excess of carbon dioxide in the atmosphere, it traps heat from the sun, leading to the Earth's temperature rising. This phenomenon is known as the greenhouse effect.\n",
      "\n",
      "Excessive carbon dioxide emissions are primarily caused by human activities such as burning fossil fuels (coal, oil, and natural gas), deforestation, and industrial processes. These activities increase the concentration of carbon dioxide in the atmosphere, which disrupts the Earth's climate system.\n",
      "\n",
      "Can you think of ways we can reduce carbon dioxide emissions to help mitigate the effects of climate change? How can individuals contribute to reducing carbon dioxide levels in the environment?\n"
     ]
    }
   ],
   "source": [
    "# Invoke the chat chain with a sample request\n",
    "sample_request = ChatRequest(\n",
    "    question=\"What does carbon dioxide do to the environment?\",\n",
    "    subject=\"Science\",\n",
    "    topic=\"Chemistry\",\n",
    "    educationLevel=\"Primary\",\n",
    "    context=\"\"\n",
    ")\n",
    "\n",
    "response = chat_with_message_history.invoke(\n",
    "    {\"question\": sample_request.question, \"subject\": sample_request.subject, \"topic\": sample_request.topic,\n",
    "        \"educationLevel\": sample_request.educationLevel, \"context\": sample_request.context},\n",
    "    {\"configurable\": {\"session_id\": SESSION_ID}}\n",
    ")\n",
    "\n",
    "print(response)"
   ]
  },
  {
   "cell_type": "code",
   "execution_count": null,
   "metadata": {},
   "outputs": [],
   "source": []
  }
 ],
 "metadata": {
  "kernelspec": {
   "display_name": ".venv",
   "language": "python",
   "name": "python3"
  },
  "language_info": {
   "codemirror_mode": {
    "name": "ipython",
    "version": 3
   },
   "file_extension": ".py",
   "mimetype": "text/x-python",
   "name": "python",
   "nbconvert_exporter": "python",
   "pygments_lexer": "ipython3",
   "version": "3.12.6"
  }
 },
 "nbformat": 4,
 "nbformat_minor": 2
}
